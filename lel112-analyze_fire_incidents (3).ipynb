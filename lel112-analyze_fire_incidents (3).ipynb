{
 "cells": [
  {
   "cell_type": "markdown",
   "metadata": {},
   "source": [
    "# Final Project!"
   ]
  },
  {
   "cell_type": "markdown",
   "metadata": {},
   "source": [
    "Introduction:\n",
    "This personal notebook is to find out which neighborhood has the most frequent fire incidents. I will start by finding the neighborhoods that appear the most times in the chart. Then, I will combine another datasets with area. I will divide the frequency by the area (in acres) to get a ratio for final comparision. "
   ]
  },
  {
   "cell_type": "markdown",
   "metadata": {},
   "source": [
    "Metric (only for my personal notebook):\n",
    "The ratio means the frequency in 1 acre, so whatever the highest ratio means highest frequency of fire incidents, the lowest ratio means lowest frequency of fire incidents. The lowest/highest ratio means best/worst neighborhood area (base on number of fire_incident)"
   ]
  },
  {
   "cell_type": "markdown",
   "metadata": {},
   "source": [
    "1. Import all the datasets I will have to use"
   ]
  },
  {
   "cell_type": "code",
   "execution_count": 2,
   "metadata": {},
   "outputs": [],
   "source": [
    "## import the data\n",
    "import pandas as pd\n",
    "import numpy as np\n",
    "import matplotlib.pyplot as plt\n",
    "fire_incident = pd.read_csv('pittsburgh_fire_incidents.csv')\n",
    "neighborhood_area = pd.read_csv('Neighborhood.csv')"
   ]
  },
  {
   "cell_type": "markdown",
   "metadata": {},
   "source": [
    "2. In the next step, I'm going to start by sorting it simply by numbers of occurance of the neighborhood in the fire incidents data sets (without area data applied)"
   ]
  },
  {
   "cell_type": "code",
   "execution_count": 6,
   "metadata": {},
   "outputs": [
    {
     "data": {
      "text/plain": [
       "Carrick                      255\n",
       "Central Business District    225\n",
       "Squirrel Hill South          225\n",
       "South Side Flats             219\n",
       "Hazelwood                    213\n",
       "                            ... \n",
       "St. Clair                     11\n",
       "Mt. Oliver                    10\n",
       "East Carnegie                 10\n",
       "Regent Square                  7\n",
       "Mount Oliver Borough           6\n",
       "Name: neighborhood, Length: 91, dtype: int64"
      ]
     },
     "execution_count": 6,
     "metadata": {},
     "output_type": "execute_result"
    }
   ],
   "source": [
    "fire_incident['neighborhood'].value_counts()"
   ]
  },
  {
   "cell_type": "markdown",
   "metadata": {},
   "source": [
    "From the data above we can see, the area where most fire incidents happened is *Carrick*, and the *Mount Oliver Borough* is where the least fire incidents happened."
   ]
  },
  {
   "cell_type": "markdown",
   "metadata": {},
   "source": [
    "3. Now I extract the columns of neighborhood name and the area from the big dataset: neighborhood_area, sort them by alphabet"
   ]
  },
  {
   "cell_type": "code",
   "execution_count": 4,
   "metadata": {},
   "outputs": [
    {
     "data": {
      "text/html": [
       "<div>\n",
       "<style scoped>\n",
       "    .dataframe tbody tr th:only-of-type {\n",
       "        vertical-align: middle;\n",
       "    }\n",
       "\n",
       "    .dataframe tbody tr th {\n",
       "        vertical-align: top;\n",
       "    }\n",
       "\n",
       "    .dataframe thead th {\n",
       "        text-align: right;\n",
       "    }\n",
       "</style>\n",
       "<table border=\"1\" class=\"dataframe\">\n",
       "  <thead>\n",
       "    <tr style=\"text-align: right;\">\n",
       "      <th></th>\n",
       "      <th>hood</th>\n",
       "      <th>acres</th>\n",
       "    </tr>\n",
       "  </thead>\n",
       "  <tbody>\n",
       "    <tr>\n",
       "      <th>0</th>\n",
       "      <td>Allegheny Center</td>\n",
       "      <td>134.703</td>\n",
       "    </tr>\n",
       "    <tr>\n",
       "      <th>1</th>\n",
       "      <td>Allegheny West</td>\n",
       "      <td>90.841</td>\n",
       "    </tr>\n",
       "    <tr>\n",
       "      <th>2</th>\n",
       "      <td>Allentown</td>\n",
       "      <td>189.608</td>\n",
       "    </tr>\n",
       "    <tr>\n",
       "      <th>3</th>\n",
       "      <td>Arlington</td>\n",
       "      <td>302.320</td>\n",
       "    </tr>\n",
       "    <tr>\n",
       "      <th>4</th>\n",
       "      <td>Arlington Heights</td>\n",
       "      <td>84.592</td>\n",
       "    </tr>\n",
       "    <tr>\n",
       "      <th>...</th>\n",
       "      <td>...</td>\n",
       "      <td>...</td>\n",
       "    </tr>\n",
       "    <tr>\n",
       "      <th>85</th>\n",
       "      <td>Upper Lawrenceville</td>\n",
       "      <td>260.349</td>\n",
       "    </tr>\n",
       "    <tr>\n",
       "      <th>86</th>\n",
       "      <td>West End</td>\n",
       "      <td>128.679</td>\n",
       "    </tr>\n",
       "    <tr>\n",
       "      <th>87</th>\n",
       "      <td>West Oakland</td>\n",
       "      <td>138.372</td>\n",
       "    </tr>\n",
       "    <tr>\n",
       "      <th>88</th>\n",
       "      <td>Westwood</td>\n",
       "      <td>445.009</td>\n",
       "    </tr>\n",
       "    <tr>\n",
       "      <th>89</th>\n",
       "      <td>Windgap</td>\n",
       "      <td>266.678</td>\n",
       "    </tr>\n",
       "  </tbody>\n",
       "</table>\n",
       "<p>90 rows × 2 columns</p>\n",
       "</div>"
      ],
      "text/plain": [
       "                   hood    acres\n",
       "0      Allegheny Center  134.703\n",
       "1        Allegheny West   90.841\n",
       "2             Allentown  189.608\n",
       "3             Arlington  302.320\n",
       "4     Arlington Heights   84.592\n",
       "..                  ...      ...\n",
       "85  Upper Lawrenceville  260.349\n",
       "86             West End  128.679\n",
       "87         West Oakland  138.372\n",
       "88             Westwood  445.009\n",
       "89              Windgap  266.678\n",
       "\n",
       "[90 rows x 2 columns]"
      ]
     },
     "execution_count": 4,
     "metadata": {},
     "output_type": "execute_result"
    }
   ],
   "source": [
    "sortedarea = neighborhood_area.sort_values(by = \"hood\")\n",
    "sortedareadf = sortedarea[['hood','acres']]\n",
    "newsortedareadf = sortedareadf.reset_index(drop=True)\n",
    "newsortedareadf"
   ]
  },
  {
   "cell_type": "markdown",
   "metadata": {},
   "source": [
    "4. combine the frequency data with the area data, and use frequency divide by area to get the ratio, sort them from least to greatest."
   ]
  },
  {
   "cell_type": "code",
   "execution_count": 7,
   "metadata": {},
   "outputs": [
    {
     "data": {
      "text/html": [
       "<div>\n",
       "<style scoped>\n",
       "    .dataframe tbody tr th:only-of-type {\n",
       "        vertical-align: middle;\n",
       "    }\n",
       "\n",
       "    .dataframe tbody tr th {\n",
       "        vertical-align: top;\n",
       "    }\n",
       "\n",
       "    .dataframe thead th {\n",
       "        text-align: right;\n",
       "    }\n",
       "</style>\n",
       "<table border=\"1\" class=\"dataframe\">\n",
       "  <thead>\n",
       "    <tr style=\"text-align: right;\">\n",
       "      <th></th>\n",
       "      <th>neighborhood</th>\n",
       "      <th>frequency</th>\n",
       "      <th>hood</th>\n",
       "      <th>acres</th>\n",
       "      <th>ratio</th>\n",
       "    </tr>\n",
       "  </thead>\n",
       "  <tbody>\n",
       "    <tr>\n",
       "      <th>37</th>\n",
       "      <td>Hays</td>\n",
       "      <td>18</td>\n",
       "      <td>Hays</td>\n",
       "      <td>1125.478</td>\n",
       "      <td>0.015993</td>\n",
       "    </tr>\n",
       "    <tr>\n",
       "      <th>26</th>\n",
       "      <td>East Carnegie</td>\n",
       "      <td>10</td>\n",
       "      <td>East Carnegie</td>\n",
       "      <td>277.895</td>\n",
       "      <td>0.035985</td>\n",
       "    </tr>\n",
       "    <tr>\n",
       "      <th>31</th>\n",
       "      <td>Fairywood</td>\n",
       "      <td>23</td>\n",
       "      <td>Fairywood</td>\n",
       "      <td>622.746</td>\n",
       "      <td>0.036933</td>\n",
       "    </tr>\n",
       "    <tr>\n",
       "      <th>54</th>\n",
       "      <td>New Homestead</td>\n",
       "      <td>20</td>\n",
       "      <td>New Homestead</td>\n",
       "      <td>510.728</td>\n",
       "      <td>0.039160</td>\n",
       "    </tr>\n",
       "    <tr>\n",
       "      <th>81</th>\n",
       "      <td>Swisshelm Park</td>\n",
       "      <td>15</td>\n",
       "      <td>Swisshelm Park</td>\n",
       "      <td>308.575</td>\n",
       "      <td>0.048611</td>\n",
       "    </tr>\n",
       "    <tr>\n",
       "      <th>...</th>\n",
       "      <td>...</td>\n",
       "      <td>...</td>\n",
       "      <td>...</td>\n",
       "      <td>...</td>\n",
       "      <td>...</td>\n",
       "    </tr>\n",
       "    <tr>\n",
       "      <th>25</th>\n",
       "      <td>East Allegheny</td>\n",
       "      <td>111</td>\n",
       "      <td>East Allegheny</td>\n",
       "      <td>151.705</td>\n",
       "      <td>0.731683</td>\n",
       "    </tr>\n",
       "    <tr>\n",
       "      <th>43</th>\n",
       "      <td>Knoxville</td>\n",
       "      <td>146</td>\n",
       "      <td>Knoxville</td>\n",
       "      <td>193.982</td>\n",
       "      <td>0.752647</td>\n",
       "    </tr>\n",
       "    <tr>\n",
       "      <th>49</th>\n",
       "      <td>Marshall-Shadeland</td>\n",
       "      <td>119</td>\n",
       "      <td>Marshall-Shadeland</td>\n",
       "      <td>148.209</td>\n",
       "      <td>0.802920</td>\n",
       "    </tr>\n",
       "    <tr>\n",
       "      <th>46</th>\n",
       "      <td>Lincoln-Lemington-Belmar</td>\n",
       "      <td>172</td>\n",
       "      <td>Lincoln-Lemington-Belmar</td>\n",
       "      <td>180.105</td>\n",
       "      <td>0.954998</td>\n",
       "    </tr>\n",
       "    <tr>\n",
       "      <th>60</th>\n",
       "      <td>Perry North</td>\n",
       "      <td>100</td>\n",
       "      <td>Perry North</td>\n",
       "      <td>0.000</td>\n",
       "      <td>inf</td>\n",
       "    </tr>\n",
       "  </tbody>\n",
       "</table>\n",
       "<p>90 rows × 5 columns</p>\n",
       "</div>"
      ],
      "text/plain": [
       "                neighborhood  frequency                      hood     acres  \\\n",
       "37                      Hays         18                      Hays  1125.478   \n",
       "26             East Carnegie         10             East Carnegie   277.895   \n",
       "31                 Fairywood         23                 Fairywood   622.746   \n",
       "54             New Homestead         20             New Homestead   510.728   \n",
       "81            Swisshelm Park         15            Swisshelm Park   308.575   \n",
       "..                       ...        ...                       ...       ...   \n",
       "25            East Allegheny        111            East Allegheny   151.705   \n",
       "43                 Knoxville        146                 Knoxville   193.982   \n",
       "49        Marshall-Shadeland        119        Marshall-Shadeland   148.209   \n",
       "46  Lincoln-Lemington-Belmar        172  Lincoln-Lemington-Belmar   180.105   \n",
       "60               Perry North        100               Perry North     0.000   \n",
       "\n",
       "       ratio  \n",
       "37  0.015993  \n",
       "26  0.035985  \n",
       "31  0.036933  \n",
       "54  0.039160  \n",
       "81  0.048611  \n",
       "..       ...  \n",
       "25  0.731683  \n",
       "43  0.752647  \n",
       "49  0.802920  \n",
       "46  0.954998  \n",
       "60       inf  \n",
       "\n",
       "[90 rows x 5 columns]"
      ]
     },
     "execution_count": 7,
     "metadata": {},
     "output_type": "execute_result"
    }
   ],
   "source": [
    "new_df = fire_incident.sort_values([\"neighborhood\"], ascending=True)\n",
    "fire_incident['neighborhood'].value_counts()\n",
    "\n",
    "newdf =fire_incident['neighborhood'].value_counts().rename_axis('neighborhood').reset_index(name='frequency')\n",
    "sorteddf = newdf.sort_values([\"neighborhood\"], ascending=True)\n",
    "sortednew = sorteddf.reset_index(drop=True)\n",
    "mergesorteddata = sortednew.merge(newsortedareadf, left_on = 'neighborhood', right_on = 'hood', suffixes=('frequency', 'acres'))\n",
    "mergesorteddata.sort_values(['frequency'], ascending=True)\n",
    "mergesorteddata['ratio'] = mergesorteddata['frequency'] / mergesorteddata['acres']\n",
    "ratio = mergesorteddata.sort_values([\"ratio\"], ascending=True)\n",
    "ratio"
   ]
  },
  {
   "cell_type": "markdown",
   "metadata": {},
   "source": [
    "From the new dataset above, according to the ratio: we can see the best neighborhood (with the lowest ratio) is Hays, and the worse neighborhood (with the highest ratio) is Lincoln-Lemington-Belmar. Note that I missing the area data of perry north."
   ]
  },
  {
   "cell_type": "markdown",
   "metadata": {},
   "source": [
    "5. display a sample bar plot chart of ratio(the first ten)"
   ]
  },
  {
   "cell_type": "code",
   "execution_count": 196,
   "metadata": {},
   "outputs": [
    {
     "data": {
      "image/png": "[encoded data removed]",
      "text/plain": [
       "<Figure size 1440x1440 with 1 Axes>"
      ]
     },
     "metadata": {
      "needs_background": "light"
     },
     "output_type": "display_data"
    }
   ],
   "source": [
    "## analyze the frequency by bar plot\n",
    "plot = finalresult.head(10).plot.bar(x='neighborhood', y='result',figsize=(20, 20))"
   ]
  },
  {
   "cell_type": "markdown",
   "metadata": {},
   "source": [
    "Conclusion"
   ]
  },
  {
   "cell_type": "markdown",
   "metadata": {},
   "source": [
    "According to the ratio of frequency/acres, the best neighborhood in Pittsburgh where the least fire incidents happened is Hays. The worst neighborhood inpittsburgh where the most fire incidents happend is Lincoln-Lemington-Belmar.\n",
    "Overall, my individual work is to analyze where is the best/worst neighborhood base on the frequency of fire incidents. I start by simply count the number of frequency of the neighborhood name, then tank them. In next step, I combine the area data and find out the ratio of frequency/acres. "
   ]
  },
  {
   "cell_type": "code",
   "execution_count": null,
   "metadata": {},
   "outputs": [],
   "source": []
  }
 ],
 "metadata": {
  "kernelspec": {
   "display_name": "Python 3",
   "language": "python",
   "name": "python3"
  },
  "language_info": {
   "codemirror_mode": {
    "name": "ipython",
    "version": 3
   },
   "file_extension": ".py",
   "mimetype": "text/x-python",
   "name": "python",
   "nbconvert_exporter": "python",
   "pygments_lexer": "ipython3",
   "version": "3.8.3"
  }
 },
 "nbformat": 4,
 "nbformat_minor": 4
}
