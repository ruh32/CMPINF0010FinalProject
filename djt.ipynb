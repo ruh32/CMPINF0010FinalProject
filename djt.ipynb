{
 "cells": [
  {
   "cell_type": "markdown",
   "metadata": {},
   "source": [
    "# Final Presentation Notebook"
   ]
  },
  {
   "cell_type": "markdown",
   "metadata": {},
   "source": [
    "### Introduction"
   ]
  },
  {
   "cell_type": "markdown",
   "metadata": {},
   "source": [
    "In my personal notebook, I analyze which neighboorhood was cleaned up the most to determine which one is the most environmentally safe. This will be done by analyzing the area covered in each neighborhood by clean-up crews. Then, I will combine that data with data from another data set that contains overall areas of each neighborhood to see which area was cleaned up the most. "
   ]
  },
  {
   "cell_type": "markdown",
   "metadata": {},
   "source": [
    "#### Step 1. Import all the datasets that must be used. "
   ]
  },
  {
   "cell_type": "code",
   "execution_count": 10,
   "metadata": {},
   "outputs": [],
   "source": [
    "import pandas as pd\n",
    "import numpy as np\n",
    "import matplotlib.pyplot as plt\n",
    "import seaborn as sns\n",
    "beautify_pgh = pd.read_csv('Pittsburgh_Beautify_The_Burgh.csv')\n",
    "neighborhoodData = pd.read_csv('neighborhoodData.csv')"
   ]
  },
  {
   "cell_type": "markdown",
   "metadata": {},
   "source": [
    "#### Step 2. Here I will add up the areas covered by groups in each neighborhood and sort them from greatest to least. The first neighborhood would have had the most ground covered. "
   ]
  },
  {
   "cell_type": "code",
   "execution_count": 45,
   "metadata": {},
   "outputs": [
    {
     "name": "stdout",
     "output_type": "stream",
     "text": [
      "                                 FID   Council   IDNumber  SHAPE_Length  \\\n",
      "Neighborhood                                                              \n",
      "Lower Lawrenceville        42.000000  7.000000  33.000000   2224.735725   \n",
      "Spring Hill-City View       6.000000  2.000000   5.000000   3923.923120   \n",
      "Mount Washington           39.222222  2.222222  31.666667   2272.368294   \n",
      "Beltzhoover                31.000000  3.000000  26.000000   1639.648261   \n",
      "Strip District             22.000000  7.000000  17.500000   2292.351206   \n",
      "South Side Flats            4.000000  3.000000   4.000000   1101.699628   \n",
      "South Oakland              20.833333  4.666667  18.666667   2382.174423   \n",
      "Point Breeze               53.000000  9.000000  41.000000   3774.923505   \n",
      "West Oakland               18.000000  6.000000  16.000000   1901.673849   \n",
      "Central Business District  61.000000  6.000000  47.000000   2625.398688   \n",
      "North Oakland              18.400000  8.000000  16.400000   2421.084375   \n",
      "Elliott                     3.000000  2.000000   3.000000   1671.511468   \n",
      "East Liberty               48.000000  9.000000  35.000000   2626.405565   \n",
      "Central Oakland            13.285714  3.000000  12.000000   1945.561128   \n",
      "Shadyside                  58.000000  8.000000  44.000000   2135.266798   \n",
      "North Point Breeze         46.000000  9.000000  37.000000   1731.894251   \n",
      "Arlington                   2.000000  3.000000   2.000000   1829.404709   \n",
      "Homewood South             60.000000  9.000000  46.000000   1817.295731   \n",
      "Allegheny West             51.000000  1.000000  39.000000   1725.966581   \n",
      "Sheraden                   59.000000  2.000000  45.000000   1690.542665   \n",
      "Greenfield                 52.000000  5.000000  40.000000   1578.363474   \n",
      "Hazelwood                  57.000000  5.000000  43.000000   1533.122947   \n",
      "Bluff/Uptown               44.000000  6.000000  36.000000    834.420970   \n",
      "Carrick                    55.500000  4.000000  42.000000    865.244558   \n",
      "Allentown                  49.500000  3.000000  38.000000    553.681375   \n",
      "\n",
      "                              SHAPE_Area  \n",
      "Neighborhood                              \n",
      "Lower Lawrenceville        207380.988028  \n",
      "Spring Hill-City View      124124.679277  \n",
      "Mount Washington           114447.751640  \n",
      "Beltzhoover                 95490.078141  \n",
      "Strip District              81612.490864  \n",
      "South Side Flats            71281.121826  \n",
      "South Oakland               45080.476896  \n",
      "Point Breeze                41690.187722  \n",
      "West Oakland                40272.943565  \n",
      "Central Business District   39050.764519  \n",
      "North Oakland               36977.334864  \n",
      "Elliott                     33866.780411  \n",
      "East Liberty                31317.548923  \n",
      "Central Oakland             29136.833529  \n",
      "Shadyside                   28277.186934  \n",
      "North Point Breeze          25093.809446  \n",
      "Arlington                   24067.037087  \n",
      "Homewood South              19290.819834  \n",
      "Allegheny West              19151.980159  \n",
      "Sheraden                    16024.609925  \n",
      "Greenfield                  15759.864536  \n",
      "Hazelwood                   11375.052841  \n",
      "Bluff/Uptown                 9187.238201  \n",
      "Carrick                      7651.803066  \n",
      "Allentown                    7587.135447  \n"
     ]
    }
   ],
   "source": [
    "import pandas as pd\n",
    "df = pd.read_csv('Pittsburgh_Beautify_The_Burgh.csv')\n",
    "print(df.groupby('Neighborhood').mean().sort_values(['SHAPE_Area', 'Neighborhood'],ascending =[False,True]))"
   ]
  },
  {
   "cell_type": "markdown",
   "metadata": {},
   "source": [
    "#### Step 3. Next, I will extract the neighborhood name and area from the Beautify Pittsburgh dataset and sort them the in alphabetical order. I will divide the area by 4046.86 to change from square meters to acres"
   ]
  },
  {
   "cell_type": "code",
   "execution_count": 68,
   "metadata": {},
   "outputs": [
    {
     "data": {
      "text/html": [
       "<div>\n",
       "<style scoped>\n",
       "    .dataframe tbody tr th:only-of-type {\n",
       "        vertical-align: middle;\n",
       "    }\n",
       "\n",
       "    .dataframe tbody tr th {\n",
       "        vertical-align: top;\n",
       "    }\n",
       "\n",
       "    .dataframe thead th {\n",
       "        text-align: right;\n",
       "    }\n",
       "</style>\n",
       "<table border=\"1\" class=\"dataframe\">\n",
       "  <thead>\n",
       "    <tr style=\"text-align: right;\">\n",
       "      <th></th>\n",
       "      <th>hood</th>\n",
       "      <th>acres</th>\n",
       "    </tr>\n",
       "  </thead>\n",
       "  <tbody>\n",
       "    <tr>\n",
       "      <th>0</th>\n",
       "      <td>Allegheny Center</td>\n",
       "      <td>134.703</td>\n",
       "    </tr>\n",
       "    <tr>\n",
       "      <th>1</th>\n",
       "      <td>Allegheny West</td>\n",
       "      <td>90.841</td>\n",
       "    </tr>\n",
       "    <tr>\n",
       "      <th>2</th>\n",
       "      <td>Allentown</td>\n",
       "      <td>189.608</td>\n",
       "    </tr>\n",
       "    <tr>\n",
       "      <th>3</th>\n",
       "      <td>Arlington</td>\n",
       "      <td>302.320</td>\n",
       "    </tr>\n",
       "    <tr>\n",
       "      <th>4</th>\n",
       "      <td>Arlington Heights</td>\n",
       "      <td>84.592</td>\n",
       "    </tr>\n",
       "    <tr>\n",
       "      <th>...</th>\n",
       "      <td>...</td>\n",
       "      <td>...</td>\n",
       "    </tr>\n",
       "    <tr>\n",
       "      <th>85</th>\n",
       "      <td>Upper Lawrenceville</td>\n",
       "      <td>260.349</td>\n",
       "    </tr>\n",
       "    <tr>\n",
       "      <th>86</th>\n",
       "      <td>West End</td>\n",
       "      <td>128.679</td>\n",
       "    </tr>\n",
       "    <tr>\n",
       "      <th>87</th>\n",
       "      <td>West Oakland</td>\n",
       "      <td>138.372</td>\n",
       "    </tr>\n",
       "    <tr>\n",
       "      <th>88</th>\n",
       "      <td>Westwood</td>\n",
       "      <td>445.009</td>\n",
       "    </tr>\n",
       "    <tr>\n",
       "      <th>89</th>\n",
       "      <td>Windgap</td>\n",
       "      <td>266.678</td>\n",
       "    </tr>\n",
       "  </tbody>\n",
       "</table>\n",
       "<p>90 rows × 2 columns</p>\n",
       "</div>"
      ],
      "text/plain": [
       "                   hood    acres\n",
       "0      Allegheny Center  134.703\n",
       "1        Allegheny West   90.841\n",
       "2             Allentown  189.608\n",
       "3             Arlington  302.320\n",
       "4     Arlington Heights   84.592\n",
       "..                  ...      ...\n",
       "85  Upper Lawrenceville  260.349\n",
       "86             West End  128.679\n",
       "87         West Oakland  138.372\n",
       "88             Westwood  445.009\n",
       "89              Windgap  266.678\n",
       "\n",
       "[90 rows x 2 columns]"
      ]
     },
     "execution_count": 68,
     "metadata": {},
     "output_type": "execute_result"
    }
   ],
   "source": [
    "temporarySet = neighborhoodData.sort_values(by = \"hood\")\n",
    "temporarySet = sortedarea[['hood','acres']]\n",
    "dataSetOne = sortedareadf.reset_index(drop=True)\n",
    "dataSetOne"
   ]
  },
  {
   "cell_type": "code",
   "execution_count": 77,
   "metadata": {},
   "outputs": [
    {
     "ename": "MergeError",
     "evalue": "No common columns to perform merge on. Merge options: left_on=None, right_on=None, left_index=False, right_index=False",
     "output_type": "error",
     "traceback": [
      "\u001b[0;31m---------------------------------------------------------------------------\u001b[0m",
      "\u001b[0;31mMergeError\u001b[0m                                Traceback (most recent call last)",
      "\u001b[0;32m<ipython-input-77-9acd7bc64681>\u001b[0m in \u001b[0;36m<module>\u001b[0;34m\u001b[0m\n\u001b[1;32m     14\u001b[0m \u001b[0;31m## df= data set 1 without converstion\u001b[0m\u001b[0;34m\u001b[0m\u001b[0;34m\u001b[0m\u001b[0;34m\u001b[0m\u001b[0m\n\u001b[1;32m     15\u001b[0m \u001b[0;34m\u001b[0m\u001b[0m\n\u001b[0;32m---> 16\u001b[0;31m \u001b[0mnewFrame\u001b[0m \u001b[0;34m=\u001b[0m \u001b[0mdataSetOne\u001b[0m\u001b[0;34m.\u001b[0m\u001b[0mmerge\u001b[0m\u001b[0;34m(\u001b[0m\u001b[0mconvertedDataNewCol\u001b[0m\u001b[0;34m)\u001b[0m\u001b[0;34m\u001b[0m\u001b[0;34m\u001b[0m\u001b[0m\n\u001b[0m\u001b[1;32m     17\u001b[0m \u001b[0mnewFrame\u001b[0m\u001b[0;34m\u001b[0m\u001b[0;34m\u001b[0m\u001b[0m\n\u001b[1;32m     18\u001b[0m \u001b[0;34m\u001b[0m\u001b[0m\n",
      "\u001b[0;32m/opt/tljh/user/lib/python3.8/site-packages/pandas/core/frame.py\u001b[0m in \u001b[0;36mmerge\u001b[0;34m(self, right, how, on, left_on, right_on, left_index, right_index, sort, suffixes, copy, indicator, validate)\u001b[0m\n\u001b[1;32m   7282\u001b[0m         \u001b[0;32mfrom\u001b[0m \u001b[0mpandas\u001b[0m\u001b[0;34m.\u001b[0m\u001b[0mcore\u001b[0m\u001b[0;34m.\u001b[0m\u001b[0mreshape\u001b[0m\u001b[0;34m.\u001b[0m\u001b[0mmerge\u001b[0m \u001b[0;32mimport\u001b[0m \u001b[0mmerge\u001b[0m\u001b[0;34m\u001b[0m\u001b[0;34m\u001b[0m\u001b[0m\n\u001b[1;32m   7283\u001b[0m \u001b[0;34m\u001b[0m\u001b[0m\n\u001b[0;32m-> 7284\u001b[0;31m         return merge(\n\u001b[0m\u001b[1;32m   7285\u001b[0m             \u001b[0mself\u001b[0m\u001b[0;34m,\u001b[0m\u001b[0;34m\u001b[0m\u001b[0;34m\u001b[0m\u001b[0m\n\u001b[1;32m   7286\u001b[0m             \u001b[0mright\u001b[0m\u001b[0;34m,\u001b[0m\u001b[0;34m\u001b[0m\u001b[0;34m\u001b[0m\u001b[0m\n",
      "\u001b[0;32m/opt/tljh/user/lib/python3.8/site-packages/pandas/core/reshape/merge.py\u001b[0m in \u001b[0;36mmerge\u001b[0;34m(left, right, how, on, left_on, right_on, left_index, right_index, sort, suffixes, copy, indicator, validate)\u001b[0m\n\u001b[1;32m     71\u001b[0m     \u001b[0mvalidate\u001b[0m\u001b[0;34m=\u001b[0m\u001b[0;32mNone\u001b[0m\u001b[0;34m,\u001b[0m\u001b[0;34m\u001b[0m\u001b[0;34m\u001b[0m\u001b[0m\n\u001b[1;32m     72\u001b[0m ) -> \"DataFrame\":\n\u001b[0;32m---> 73\u001b[0;31m     op = _MergeOperation(\n\u001b[0m\u001b[1;32m     74\u001b[0m         \u001b[0mleft\u001b[0m\u001b[0;34m,\u001b[0m\u001b[0;34m\u001b[0m\u001b[0;34m\u001b[0m\u001b[0m\n\u001b[1;32m     75\u001b[0m         \u001b[0mright\u001b[0m\u001b[0;34m,\u001b[0m\u001b[0;34m\u001b[0m\u001b[0;34m\u001b[0m\u001b[0m\n",
      "\u001b[0;32m/opt/tljh/user/lib/python3.8/site-packages/pandas/core/reshape/merge.py\u001b[0m in \u001b[0;36m__init__\u001b[0;34m(self, left, right, how, on, left_on, right_on, axis, left_index, right_index, sort, suffixes, copy, indicator, validate)\u001b[0m\n\u001b[1;32m    618\u001b[0m             \u001b[0mwarnings\u001b[0m\u001b[0;34m.\u001b[0m\u001b[0mwarn\u001b[0m\u001b[0;34m(\u001b[0m\u001b[0mmsg\u001b[0m\u001b[0;34m,\u001b[0m \u001b[0mUserWarning\u001b[0m\u001b[0;34m)\u001b[0m\u001b[0;34m\u001b[0m\u001b[0;34m\u001b[0m\u001b[0m\n\u001b[1;32m    619\u001b[0m \u001b[0;34m\u001b[0m\u001b[0m\n\u001b[0;32m--> 620\u001b[0;31m         \u001b[0mself\u001b[0m\u001b[0;34m.\u001b[0m\u001b[0m_validate_specification\u001b[0m\u001b[0;34m(\u001b[0m\u001b[0;34m)\u001b[0m\u001b[0;34m\u001b[0m\u001b[0;34m\u001b[0m\u001b[0m\n\u001b[0m\u001b[1;32m    621\u001b[0m \u001b[0;34m\u001b[0m\u001b[0m\n\u001b[1;32m    622\u001b[0m         \u001b[0;31m# note this function has side effects\u001b[0m\u001b[0;34m\u001b[0m\u001b[0;34m\u001b[0m\u001b[0;34m\u001b[0m\u001b[0m\n",
      "\u001b[0;32m/opt/tljh/user/lib/python3.8/site-packages/pandas/core/reshape/merge.py\u001b[0m in \u001b[0;36m_validate_specification\u001b[0;34m(self)\u001b[0m\n\u001b[1;32m   1189\u001b[0m                 \u001b[0mcommon_cols\u001b[0m \u001b[0;34m=\u001b[0m \u001b[0mself\u001b[0m\u001b[0;34m.\u001b[0m\u001b[0mleft\u001b[0m\u001b[0;34m.\u001b[0m\u001b[0mcolumns\u001b[0m\u001b[0;34m.\u001b[0m\u001b[0mintersection\u001b[0m\u001b[0;34m(\u001b[0m\u001b[0mself\u001b[0m\u001b[0;34m.\u001b[0m\u001b[0mright\u001b[0m\u001b[0;34m.\u001b[0m\u001b[0mcolumns\u001b[0m\u001b[0;34m)\u001b[0m\u001b[0;34m\u001b[0m\u001b[0;34m\u001b[0m\u001b[0m\n\u001b[1;32m   1190\u001b[0m                 \u001b[0;32mif\u001b[0m \u001b[0mlen\u001b[0m\u001b[0;34m(\u001b[0m\u001b[0mcommon_cols\u001b[0m\u001b[0;34m)\u001b[0m \u001b[0;34m==\u001b[0m \u001b[0;36m0\u001b[0m\u001b[0;34m:\u001b[0m\u001b[0;34m\u001b[0m\u001b[0;34m\u001b[0m\u001b[0m\n\u001b[0;32m-> 1191\u001b[0;31m                     raise MergeError(\n\u001b[0m\u001b[1;32m   1192\u001b[0m                         \u001b[0;34m\"No common columns to perform merge on. \"\u001b[0m\u001b[0;34m\u001b[0m\u001b[0;34m\u001b[0m\u001b[0m\n\u001b[1;32m   1193\u001b[0m                         \u001b[0;34m\"Merge options: left_on={lon}, right_on={ron}, \"\u001b[0m\u001b[0;34m\u001b[0m\u001b[0;34m\u001b[0m\u001b[0m\n",
      "\u001b[0;31mMergeError\u001b[0m: No common columns to perform merge on. Merge options: left_on=None, right_on=None, left_index=False, right_index=False"
     ]
    }
   ],
   "source": [
    "\n",
    "# using the df from the last step create a\n",
    "#new data frame \n",
    "\n",
    "##neighborhoodFrame = pd.read_csv('neighborhoodData.csv')\n",
    "##df = pd.read_csv('Pittsburgh_Beautify_The_Burgh.csv')\n",
    "\n",
    "dataSetTwo = pd.read_csv('Pittsburgh_Beautify_The_Burgh.csv')\n",
    "convertedDataNewCol= (dataSetTwo['SHAPE_Area'])/4046.86 \n",
    "#convertedData is a new column insert this into NeighborhoodData\n",
    "\n",
    "\n",
    "\n",
    "## Merge both sets and data so you can do an operation\n",
    "## df= data set 1 without converstion \n",
    "\n",
    "newFrame = dataSetOne.merge(convertedDataNewCol)\n",
    "newFrame\n",
    "\n",
    "##newFrame = dataSetOne.merge(convertedData, left_on ='neighborhood', right_on = 'hood', suffixes='ratio','convertedData')\n",
    "#newDataSet = newFrame[['Neighborhood', 'convertedData','acres', 'ratio']]"
   ]
  },
  {
   "cell_type": "code",
   "execution_count": null,
   "metadata": {},
   "outputs": [],
   "source": []
  },
  {
   "cell_type": "code",
   "execution_count": null,
   "metadata": {},
   "outputs": [],
   "source": []
  },
  {
   "cell_type": "code",
   "execution_count": null,
   "metadata": {},
   "outputs": [],
   "source": []
  },
  {
   "cell_type": "code",
   "execution_count": null,
   "metadata": {},
   "outputs": [],
   "source": []
  },
  {
   "cell_type": "code",
   "execution_count": null,
   "metadata": {},
   "outputs": [],
   "source": []
  },
  {
   "cell_type": "code",
   "execution_count": null,
   "metadata": {},
   "outputs": [],
   "source": []
  }
 ],
 "metadata": {
  "kernelspec": {
   "display_name": "Python 3",
   "language": "python",
   "name": "python3"
  },
  "language_info": {
   "codemirror_mode": {
    "name": "ipython",
    "version": 3
   },
   "file_extension": ".py",
   "mimetype": "text/x-python",
   "name": "python",
   "nbconvert_exporter": "python",
   "pygments_lexer": "ipython3",
   "version": "3.8.3"
  }
 },
 "nbformat": 4,
 "nbformat_minor": 4
}
