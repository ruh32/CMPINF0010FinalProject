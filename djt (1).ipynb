{
 "cells": [
  {
   "cell_type": "markdown",
   "metadata": {},
   "source": [
    "# Final Presentation Notebook"
   ]
  },
  {
   "cell_type": "markdown",
   "metadata": {},
   "source": [
    "### Introduction"
   ]
  },
  {
   "cell_type": "markdown",
   "metadata": {},
   "source": [
    "In my personal notebook, I analyze which neighboorhood was cleaned up the most to determine which one is the most environmentally safe. This will be done by analyzing the area covered in each neighborhood by clean-up crews. Then, I will combine that data with data from another data set that contains overall areas of each neighborhood to see which area was cleaned up the most. "
   ]
  },
  {
   "cell_type": "markdown",
   "metadata": {},
   "source": [
    "#### Step 1. Import all the datasets that must be used. "
   ]
  },
  {
   "cell_type": "code",
   "execution_count": null,
   "metadata": {},
   "outputs": [],
   "source": [
    "import pandas as pd\n",
    "import numpy as np\n",
    "import matplotlib.pyplot as plt\n",
    "import seaborn as sns\n",
    "beautify_pgh = pd.read_csv('Pittsburgh_Beautify_The_Burgh.csv')\n",
    "neighborhoodData = pd.read_csv('neighborhoodData.csv')"
   ]
  },
  {
   "cell_type": "markdown",
   "metadata": {},
   "source": [
    "#### Step 2. Here I will add up the areas covered by groups in each neighborhood and sort them from greatest to least. The first neighborhood would have had the most ground covered. "
   ]
  },
  {
   "cell_type": "code",
   "execution_count": null,
   "metadata": {},
   "outputs": [],
   "source": [
    "import pandas as pd\n",
    "df = pd.read_csv('Pittsburgh_Beautify_The_Burgh.csv')\n",
    "dataSetTwo = df[['Neighborhood','SHAPE_Area']]\n",
    "#dataSetTwo = df.groupby('Neighborhood').mean().sort_values(['SHAPE_Area','Neighborhood'],ascending =[False,True])\n",
    "#dataSetTwo['SHAPE_Area'] = dataSetTwo['SHAPE_Area']/4046.86\n",
    "sortDataSetTwo = dataSetTwo.sort_values(by=\"Neighborhood\")\n",
    "mergedf = pd.DataFrame(data=sortDataSetTwo)\n",
    "mergedf2 = mergedf.groupby(['Neighborhood']).agg({'Neighborhood' : 'sum'})\n",
    "print(mergedf2)"
   ]
  },
  {
   "cell_type": "markdown",
   "metadata": {},
   "source": [
    "#### Step 3. Next, I will extract the neighborhood name and area from the Beautify Pittsburgh dataset and sort them the in alphabetical order. I will divide the area by 4046.86 to change from square meters to acres"
   ]
  },
  {
   "cell_type": "code",
   "execution_count": 68,
   "metadata": {},
   "outputs": [
    {
     "data": {
      "text/html": [
       "<div>\n",
       "<style scoped>\n",
       "    .dataframe tbody tr th:only-of-type {\n",
       "        vertical-align: middle;\n",
       "    }\n",
       "\n",
       "    .dataframe tbody tr th {\n",
       "        vertical-align: top;\n",
       "    }\n",
       "\n",
       "    .dataframe thead th {\n",
       "        text-align: right;\n",
       "    }\n",
       "</style>\n",
       "<table border=\"1\" class=\"dataframe\">\n",
       "  <thead>\n",
       "    <tr style=\"text-align: right;\">\n",
       "      <th></th>\n",
       "      <th>hood</th>\n",
       "      <th>acres</th>\n",
       "    </tr>\n",
       "  </thead>\n",
       "  <tbody>\n",
       "    <tr>\n",
       "      <th>0</th>\n",
       "      <td>Allegheny Center</td>\n",
       "      <td>134.703</td>\n",
       "    </tr>\n",
       "    <tr>\n",
       "      <th>1</th>\n",
       "      <td>Allegheny West</td>\n",
       "      <td>90.841</td>\n",
       "    </tr>\n",
       "    <tr>\n",
       "      <th>2</th>\n",
       "      <td>Allentown</td>\n",
       "      <td>189.608</td>\n",
       "    </tr>\n",
       "    <tr>\n",
       "      <th>3</th>\n",
       "      <td>Arlington</td>\n",
       "      <td>302.320</td>\n",
       "    </tr>\n",
       "    <tr>\n",
       "      <th>4</th>\n",
       "      <td>Arlington Heights</td>\n",
       "      <td>84.592</td>\n",
       "    </tr>\n",
       "    <tr>\n",
       "      <th>...</th>\n",
       "      <td>...</td>\n",
       "      <td>...</td>\n",
       "    </tr>\n",
       "    <tr>\n",
       "      <th>85</th>\n",
       "      <td>Upper Lawrenceville</td>\n",
       "      <td>260.349</td>\n",
       "    </tr>\n",
       "    <tr>\n",
       "      <th>86</th>\n",
       "      <td>West End</td>\n",
       "      <td>128.679</td>\n",
       "    </tr>\n",
       "    <tr>\n",
       "      <th>87</th>\n",
       "      <td>West Oakland</td>\n",
       "      <td>138.372</td>\n",
       "    </tr>\n",
       "    <tr>\n",
       "      <th>88</th>\n",
       "      <td>Westwood</td>\n",
       "      <td>445.009</td>\n",
       "    </tr>\n",
       "    <tr>\n",
       "      <th>89</th>\n",
       "      <td>Windgap</td>\n",
       "      <td>266.678</td>\n",
       "    </tr>\n",
       "  </tbody>\n",
       "</table>\n",
       "<p>90 rows × 2 columns</p>\n",
       "</div>"
      ],
      "text/plain": [
       "                   hood    acres\n",
       "0      Allegheny Center  134.703\n",
       "1        Allegheny West   90.841\n",
       "2             Allentown  189.608\n",
       "3             Arlington  302.320\n",
       "4     Arlington Heights   84.592\n",
       "..                  ...      ...\n",
       "85  Upper Lawrenceville  260.349\n",
       "86             West End  128.679\n",
       "87         West Oakland  138.372\n",
       "88             Westwood  445.009\n",
       "89              Windgap  266.678\n",
       "\n",
       "[90 rows x 2 columns]"
      ]
     },
     "execution_count": 68,
     "metadata": {},
     "output_type": "execute_result"
    }
   ],
   "source": [
    "temporarySet = neighborhoodData.sort_values(by = \"hood\")\n",
    "temporarySet = sortedarea[['hood','acres']]\n",
    "dataSetOne = sortedareadf.reset_index(drop=True)\n",
    "dataSetOne"
   ]
  },
  {
   "cell_type": "code",
   "execution_count": null,
   "metadata": {},
   "outputs": [],
   "source": [
    "\n",
    "# using the df from the last step create a\n",
    "#new data frame \n",
    "\n",
    "##neighborhoodFrame = pd.read_csv('neighborhoodData.csv')\n",
    "##df = pd.read_csv('Pittsburgh_Beautify_The_Burgh.csv')\n",
    "\n",
    "##dataSetTwo = pd.read_csv('Pittsburgh_Beautify_The_Burgh.csv')\n",
    "\n",
    "#dataSetTwo['SHAPE_Area'] = dataSetTwo['SHAPE_Area']/4046.86\n",
    "#dataSetTwo.sort_values(by = 'Neighborhood')\n",
    "#newDataSetTwo = dataSetTwo[['Neighborhood', 'SHAPE_Area']]\n",
    "#finalDataSetTwo = newDataSetTwo.reset_index(drop=True)\n",
    "#finalDataSetTwo\n",
    "#print(dataSetTwo)\n",
    "#temporary_Set =dataSetTwo.sort_values(by = \"Neighborhood\")\n",
    "#temporary_Set = sortedarea[['Neighborhood','SHAPE_Area]]\n",
    "#final = sortedareadf.reset_index(drop=True)\n",
    "#final\n",
    "\n",
    "#dataSetTwo['SHAPE_Area'] = dataSetOne['shape_length']\n",
    "\n",
    "\n",
    "#convertedDataNewCol= (dataSetTwo['SHAPE_Area'])/4046.86 \n",
    "#convertedData is a new column insert this into NeighborhoodData\n",
    "\n",
    "\n",
    "\n",
    "## Merge both sets and data so you can do an operation\n",
    "## df= data set 1 without converstion \n",
    "\n",
    "#newFrame = dataSetTwo.merge(convertedDataNewCol)\n",
    "#newFrame\n",
    "\n",
    "\n",
    "##newFrame = dataSetOne.merge(convertedData, left_on ='neighborhood', right_on = 'hood', suffixes='ratio','convertedData')\n",
    "#newDataSet = newFrame[['Neighborhood', 'convertedData','acres', 'ratio']]\n",
    "\n",
    "merge = sortDataSetTwo.groupby(['Neighborhood']).agg({'SHAPE_Area':'sum'})\n",
    "merge"
   ]
  },
  {
   "cell_type": "code",
   "execution_count": null,
   "metadata": {},
   "outputs": [],
   "source": [
    "import pandas as pd\n",
    "df = pd.read_csv('Pittsburgh_Beautify_The_Burgh.csv')\n",
    "dataSetTwo = df[['Neighborhood','SHAPE_Area']]\n",
    "dataSetTwo = df.groupby('Neighborhood').mean().sort_values(['SHAPE_Area','Neighborhood'],ascending =[False,True])\n",
    "dataSetTwo['SHAPE_Area'] = dataSetTwo['SHAPE_Area']/4046.86\n",
    "sortDataSetTwo = dataSetTwo.sort_values(by=\"Neighborhood\").sum()\n",
    "sortDataSetTwo"
   ]
  },
  {
   "cell_type": "code",
   "execution_count": null,
   "metadata": {},
   "outputs": [],
   "source": []
  },
  {
   "cell_type": "code",
   "execution_count": null,
   "metadata": {},
   "outputs": [],
   "source": []
  },
  {
   "cell_type": "code",
   "execution_count": null,
   "metadata": {},
   "outputs": [],
   "source": []
  },
  {
   "cell_type": "code",
   "execution_count": null,
   "metadata": {},
   "outputs": [],
   "source": []
  },
  {
   "cell_type": "code",
   "execution_count": null,
   "metadata": {},
   "outputs": [],
   "source": []
  },
  {
   "cell_type": "code",
   "execution_count": null,
   "metadata": {},
   "outputs": [],
   "source": []
  },
  {
   "cell_type": "code",
   "execution_count": null,
   "metadata": {},
   "outputs": [],
   "source": []
  },
  {
   "cell_type": "code",
   "execution_count": null,
   "metadata": {},
   "outputs": [],
   "source": []
  },
  {
   "cell_type": "code",
   "execution_count": null,
   "metadata": {},
   "outputs": [],
   "source": []
  },
  {
   "cell_type": "code",
   "execution_count": null,
   "metadata": {},
   "outputs": [],
   "source": []
  },
  {
   "cell_type": "code",
   "execution_count": null,
   "metadata": {},
   "outputs": [],
   "source": []
  }
 ],
 "metadata": {
  "kernelspec": {
   "display_name": "Python 3",
   "language": "python",
   "name": "python3"
  },
  "language_info": {
   "codemirror_mode": {
    "name": "ipython",
    "version": 3
   },
   "file_extension": ".py",
   "mimetype": "text/x-python",
   "name": "python",
   "nbconvert_exporter": "python",
   "pygments_lexer": "ipython3",
   "version": "3.8.3"
  }
 },
 "nbformat": 4,
 "nbformat_minor": 4
}
